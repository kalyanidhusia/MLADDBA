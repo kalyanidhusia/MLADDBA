{
 "cells": [
  {
   "cell_type": "markdown",
   "metadata": {},
   "source": [
    "<h3><center> International e-workshop on Machine learning applications in drug discovery: basic to advanced<br><font color='green'>Author: Kalyani Dhusia <br> Dated: 05.21.2021</font> </center></h3>\n",
    "\n",
    "##### <font color='maroon'>Module 2: Introduction to machine learning (Lecture cum Hands-on session)<br><br>  • Protein data handeling using Jupyter(Python)<br> </font>\n",
    " \n",
    "\n",
    "\n"
   ]
  },
  {
   "cell_type": "code",
   "execution_count": 1,
   "metadata": {},
   "outputs": [],
   "source": [
    "#Let's first call for basic python fuctions(modules) to work with jupyter\n",
    "import pandas as pd\n",
    "import numpy as np\n",
    "import sys\n",
    "import gzip\n",
    "from biopandas.pdb import PandasPdb"
   ]
  },
  {
   "cell_type": "code",
   "execution_count": 2,
   "metadata": {},
   "outputs": [],
   "source": [
    "# Initialize a new PandasPdb object\n",
    "# and fetch the PDB file from rcsb.org\n",
    "ppdb = PandasPdb().fetch_pdb('7df4')"
   ]
  },
  {
   "cell_type": "markdown",
   "metadata": {},
   "source": [
    "<br>Alternatively, we can load PDB files from local directories as regular PDB files using read_pdb\n",
    "\n",
    "Or, we can load them from gzip archives like so (note that the file must end with a '.gz' suffix in order to be recognized as a gzip file):"
   ]
  },
  {
   "cell_type": "code",
   "execution_count": 3,
   "metadata": {},
   "outputs": [
    {
     "data": {
      "text/plain": [
       "<biopandas.pdb.pandas_pdb.PandasPdb at 0x7fefc9e20210>"
      ]
     },
     "execution_count": 3,
     "metadata": {},
     "output_type": "execute_result"
    }
   ],
   "source": [
    "ppdb.read_pdb('/Users/saheeba/Downloads/MLADDBA/data/7df4.pdb')\n",
    "ppdb.read_pdb('/Users/saheeba/Downloads/MLADDBA/data/7df4.pdb.gz')"
   ]
  },
  {
   "cell_type": "markdown",
   "metadata": {},
   "source": [
    "After the file was succesfully loaded, we have access to the following attributes:"
   ]
  },
  {
   "cell_type": "code",
   "execution_count": 4,
   "metadata": {},
   "outputs": [
    {
     "name": "stdout",
     "output_type": "stream",
     "text": [
      "PDB Code: 7df4\n",
      "PDB Header Line:     VIRAL PROTEIN                           06-NOV-20   7DF4\n",
      "\n",
      "Raw PDB file contents:\n",
      "\n",
      "HEADER    VIRAL PROTEIN                           06-NOV-20   7DF4              \n",
      "TITLE     SARS-COV-2 S-ACE2 COMPLEX                                             \n",
      "COMPND    MOL_ID: 1;                                                            \n",
      "COMPND   2 MOLECULE: ANGIOTENSIN-CONVERTING ENZYME 2;                           \n",
      "COMPND   3 CHAIN: A;                                                            \n",
      "COMPND   4 SYNONYM: ANGIOTENSIN-CONVERTING ENZYME HOMOLOG,ACEH,ANGIOTENSIN-     \n",
      "COMPND   5 CONVERTING ENZYME-RELATED CARBOXYPEPTIDASE,ACE-RELATED               \n",
      "COMPND   6 CARBOXYPEPTIDASE,METALLOPROTEASE MPROT15;                            \n",
      "COMPND   7 EC: 3.4.17.23,3.4.17.-;                                              \n",
      "COMPND   8 ENGINEERED: YES;                                                     \n",
      "COMPND   9 MOL_ID: 2;                                                           \n",
      "COMPND  10 MOLECULE: SPIKE GLYCOPROTEIN;                                        \n",
      "COMPND  11 CHAIN: C, B, D;  \n",
      "...\n"
     ]
    }
   ],
   "source": [
    "print('PDB Code: %s' % ppdb.code)\n",
    "print('PDB Header Line: %s' % ppdb.header)\n",
    "print('\\nRaw PDB file contents:\\n\\n%s\\n...' % ppdb.pdb_text[:1000])"
   ]
  },
  {
   "cell_type": "markdown",
   "metadata": {},
   "source": [
    "##### <font color='brown'>The most interesting useful attribute is the PandasPdb.df DataFrame dictionary though, which gives us access to the PDB files as pandas DataFrames. Let's print the first 3 lines from the ATOM coordinate section to see how it looks like:</font>"
   ]
  },
  {
   "cell_type": "code",
   "execution_count": 5,
   "metadata": {},
   "outputs": [
    {
     "data": {
      "text/html": [
       "<div>\n",
       "<style scoped>\n",
       "    .dataframe tbody tr th:only-of-type {\n",
       "        vertical-align: middle;\n",
       "    }\n",
       "\n",
       "    .dataframe tbody tr th {\n",
       "        vertical-align: top;\n",
       "    }\n",
       "\n",
       "    .dataframe thead th {\n",
       "        text-align: right;\n",
       "    }\n",
       "</style>\n",
       "<table border=\"1\" class=\"dataframe\">\n",
       "  <thead>\n",
       "    <tr style=\"text-align: right;\">\n",
       "      <th></th>\n",
       "      <th>record_name</th>\n",
       "      <th>atom_number</th>\n",
       "      <th>blank_1</th>\n",
       "      <th>atom_name</th>\n",
       "      <th>alt_loc</th>\n",
       "      <th>residue_name</th>\n",
       "      <th>blank_2</th>\n",
       "      <th>chain_id</th>\n",
       "      <th>residue_number</th>\n",
       "      <th>insertion</th>\n",
       "      <th>...</th>\n",
       "      <th>x_coord</th>\n",
       "      <th>y_coord</th>\n",
       "      <th>z_coord</th>\n",
       "      <th>occupancy</th>\n",
       "      <th>b_factor</th>\n",
       "      <th>blank_4</th>\n",
       "      <th>segment_id</th>\n",
       "      <th>element_symbol</th>\n",
       "      <th>charge</th>\n",
       "      <th>line_idx</th>\n",
       "    </tr>\n",
       "  </thead>\n",
       "  <tbody>\n",
       "    <tr>\n",
       "      <td>0</td>\n",
       "      <td>ATOM</td>\n",
       "      <td>1</td>\n",
       "      <td></td>\n",
       "      <td>N</td>\n",
       "      <td></td>\n",
       "      <td>SER</td>\n",
       "      <td></td>\n",
       "      <td>A</td>\n",
       "      <td>19</td>\n",
       "      <td></td>\n",
       "      <td>...</td>\n",
       "      <td>185.293</td>\n",
       "      <td>188.581</td>\n",
       "      <td>285.962</td>\n",
       "      <td>1.0</td>\n",
       "      <td>140.94</td>\n",
       "      <td></td>\n",
       "      <td></td>\n",
       "      <td>N</td>\n",
       "      <td>NaN</td>\n",
       "      <td>1893</td>\n",
       "    </tr>\n",
       "    <tr>\n",
       "      <td>1</td>\n",
       "      <td>ATOM</td>\n",
       "      <td>2</td>\n",
       "      <td></td>\n",
       "      <td>CA</td>\n",
       "      <td></td>\n",
       "      <td>SER</td>\n",
       "      <td></td>\n",
       "      <td>A</td>\n",
       "      <td>19</td>\n",
       "      <td></td>\n",
       "      <td>...</td>\n",
       "      <td>186.331</td>\n",
       "      <td>187.885</td>\n",
       "      <td>286.712</td>\n",
       "      <td>1.0</td>\n",
       "      <td>140.94</td>\n",
       "      <td></td>\n",
       "      <td></td>\n",
       "      <td>C</td>\n",
       "      <td>NaN</td>\n",
       "      <td>1894</td>\n",
       "    </tr>\n",
       "    <tr>\n",
       "      <td>2</td>\n",
       "      <td>ATOM</td>\n",
       "      <td>3</td>\n",
       "      <td></td>\n",
       "      <td>C</td>\n",
       "      <td></td>\n",
       "      <td>SER</td>\n",
       "      <td></td>\n",
       "      <td>A</td>\n",
       "      <td>19</td>\n",
       "      <td></td>\n",
       "      <td>...</td>\n",
       "      <td>186.651</td>\n",
       "      <td>188.619</td>\n",
       "      <td>288.010</td>\n",
       "      <td>1.0</td>\n",
       "      <td>140.94</td>\n",
       "      <td></td>\n",
       "      <td></td>\n",
       "      <td>C</td>\n",
       "      <td>NaN</td>\n",
       "      <td>1895</td>\n",
       "    </tr>\n",
       "    <tr>\n",
       "      <td>3</td>\n",
       "      <td>ATOM</td>\n",
       "      <td>4</td>\n",
       "      <td></td>\n",
       "      <td>O</td>\n",
       "      <td></td>\n",
       "      <td>SER</td>\n",
       "      <td></td>\n",
       "      <td>A</td>\n",
       "      <td>19</td>\n",
       "      <td></td>\n",
       "      <td>...</td>\n",
       "      <td>186.284</td>\n",
       "      <td>188.169</td>\n",
       "      <td>289.095</td>\n",
       "      <td>1.0</td>\n",
       "      <td>140.94</td>\n",
       "      <td></td>\n",
       "      <td></td>\n",
       "      <td>O</td>\n",
       "      <td>NaN</td>\n",
       "      <td>1896</td>\n",
       "    </tr>\n",
       "    <tr>\n",
       "      <td>4</td>\n",
       "      <td>ATOM</td>\n",
       "      <td>5</td>\n",
       "      <td></td>\n",
       "      <td>CB</td>\n",
       "      <td></td>\n",
       "      <td>SER</td>\n",
       "      <td></td>\n",
       "      <td>A</td>\n",
       "      <td>19</td>\n",
       "      <td></td>\n",
       "      <td>...</td>\n",
       "      <td>187.597</td>\n",
       "      <td>187.735</td>\n",
       "      <td>285.865</td>\n",
       "      <td>1.0</td>\n",
       "      <td>140.20</td>\n",
       "      <td></td>\n",
       "      <td></td>\n",
       "      <td>C</td>\n",
       "      <td>NaN</td>\n",
       "      <td>1897</td>\n",
       "    </tr>\n",
       "  </tbody>\n",
       "</table>\n",
       "<p>5 rows × 21 columns</p>\n",
       "</div>"
      ],
      "text/plain": [
       "  record_name  atom_number blank_1 atom_name alt_loc residue_name blank_2  \\\n",
       "0        ATOM            1                 N                  SER           \n",
       "1        ATOM            2                CA                  SER           \n",
       "2        ATOM            3                 C                  SER           \n",
       "3        ATOM            4                 O                  SER           \n",
       "4        ATOM            5                CB                  SER           \n",
       "\n",
       "  chain_id  residue_number insertion  ...  x_coord  y_coord  z_coord  \\\n",
       "0        A              19            ...  185.293  188.581  285.962   \n",
       "1        A              19            ...  186.331  187.885  286.712   \n",
       "2        A              19            ...  186.651  188.619  288.010   \n",
       "3        A              19            ...  186.284  188.169  289.095   \n",
       "4        A              19            ...  187.597  187.735  285.865   \n",
       "\n",
       "   occupancy  b_factor  blank_4 segment_id element_symbol charge  line_idx  \n",
       "0        1.0    140.94                                  N    NaN      1893  \n",
       "1        1.0    140.94                                  C    NaN      1894  \n",
       "2        1.0    140.94                                  C    NaN      1895  \n",
       "3        1.0    140.94                                  O    NaN      1896  \n",
       "4        1.0    140.20                                  C    NaN      1897  \n",
       "\n",
       "[5 rows x 21 columns]"
      ]
     },
     "execution_count": 5,
     "metadata": {},
     "output_type": "execute_result"
    }
   ],
   "source": [
    "ppdb.df['ATOM'].head()"
   ]
  },
  {
   "cell_type": "code",
   "execution_count": 6,
   "metadata": {},
   "outputs": [
    {
     "data": {
      "text/plain": [
       "dict_keys(['ATOM', 'HETATM', 'ANISOU', 'OTHERS'])"
      ]
     },
     "execution_count": 6,
     "metadata": {},
     "output_type": "execute_result"
    }
   ],
   "source": [
    "ppdb.df.keys()"
   ]
  },
  {
   "cell_type": "code",
   "execution_count": 7,
   "metadata": {},
   "outputs": [
    {
     "data": {
      "text/html": [
       "<div>\n",
       "<style scoped>\n",
       "    .dataframe tbody tr th:only-of-type {\n",
       "        vertical-align: middle;\n",
       "    }\n",
       "\n",
       "    .dataframe tbody tr th {\n",
       "        vertical-align: top;\n",
       "    }\n",
       "\n",
       "    .dataframe thead th {\n",
       "        text-align: right;\n",
       "    }\n",
       "</style>\n",
       "<table border=\"1\" class=\"dataframe\">\n",
       "  <thead>\n",
       "    <tr style=\"text-align: right;\">\n",
       "      <th></th>\n",
       "      <th>record_name</th>\n",
       "      <th>atom_number</th>\n",
       "      <th>blank_1</th>\n",
       "      <th>atom_name</th>\n",
       "      <th>alt_loc</th>\n",
       "      <th>residue_name</th>\n",
       "      <th>blank_2</th>\n",
       "      <th>chain_id</th>\n",
       "      <th>residue_number</th>\n",
       "      <th>insertion</th>\n",
       "      <th>...</th>\n",
       "      <th>x_coord</th>\n",
       "      <th>y_coord</th>\n",
       "      <th>z_coord</th>\n",
       "      <th>occupancy</th>\n",
       "      <th>b_factor</th>\n",
       "      <th>blank_4</th>\n",
       "      <th>segment_id</th>\n",
       "      <th>element_symbol</th>\n",
       "      <th>charge</th>\n",
       "      <th>line_idx</th>\n",
       "    </tr>\n",
       "  </thead>\n",
       "  <tbody>\n",
       "    <tr>\n",
       "      <td>0</td>\n",
       "      <td>HETATM</td>\n",
       "      <td>29917</td>\n",
       "      <td></td>\n",
       "      <td>C1</td>\n",
       "      <td></td>\n",
       "      <td>NAG</td>\n",
       "      <td></td>\n",
       "      <td>E</td>\n",
       "      <td>1</td>\n",
       "      <td></td>\n",
       "      <td>...</td>\n",
       "      <td>215.900</td>\n",
       "      <td>180.146</td>\n",
       "      <td>131.480</td>\n",
       "      <td>1.0</td>\n",
       "      <td>30.0</td>\n",
       "      <td></td>\n",
       "      <td></td>\n",
       "      <td>C</td>\n",
       "      <td>NaN</td>\n",
       "      <td>31809</td>\n",
       "    </tr>\n",
       "    <tr>\n",
       "      <td>1</td>\n",
       "      <td>HETATM</td>\n",
       "      <td>29918</td>\n",
       "      <td></td>\n",
       "      <td>C2</td>\n",
       "      <td></td>\n",
       "      <td>NAG</td>\n",
       "      <td></td>\n",
       "      <td>E</td>\n",
       "      <td>1</td>\n",
       "      <td></td>\n",
       "      <td>...</td>\n",
       "      <td>216.579</td>\n",
       "      <td>179.615</td>\n",
       "      <td>132.737</td>\n",
       "      <td>1.0</td>\n",
       "      <td>30.0</td>\n",
       "      <td></td>\n",
       "      <td></td>\n",
       "      <td>C</td>\n",
       "      <td>NaN</td>\n",
       "      <td>31810</td>\n",
       "    </tr>\n",
       "    <tr>\n",
       "      <td>2</td>\n",
       "      <td>HETATM</td>\n",
       "      <td>29919</td>\n",
       "      <td></td>\n",
       "      <td>C3</td>\n",
       "      <td></td>\n",
       "      <td>NAG</td>\n",
       "      <td></td>\n",
       "      <td>E</td>\n",
       "      <td>1</td>\n",
       "      <td></td>\n",
       "      <td>...</td>\n",
       "      <td>218.056</td>\n",
       "      <td>179.383</td>\n",
       "      <td>132.455</td>\n",
       "      <td>1.0</td>\n",
       "      <td>30.0</td>\n",
       "      <td></td>\n",
       "      <td></td>\n",
       "      <td>C</td>\n",
       "      <td>NaN</td>\n",
       "      <td>31811</td>\n",
       "    </tr>\n",
       "    <tr>\n",
       "      <td>3</td>\n",
       "      <td>HETATM</td>\n",
       "      <td>29920</td>\n",
       "      <td></td>\n",
       "      <td>C4</td>\n",
       "      <td></td>\n",
       "      <td>NAG</td>\n",
       "      <td></td>\n",
       "      <td>E</td>\n",
       "      <td>1</td>\n",
       "      <td></td>\n",
       "      <td>...</td>\n",
       "      <td>218.213</td>\n",
       "      <td>178.429</td>\n",
       "      <td>131.280</td>\n",
       "      <td>1.0</td>\n",
       "      <td>30.0</td>\n",
       "      <td></td>\n",
       "      <td></td>\n",
       "      <td>C</td>\n",
       "      <td>NaN</td>\n",
       "      <td>31812</td>\n",
       "    </tr>\n",
       "    <tr>\n",
       "      <td>4</td>\n",
       "      <td>HETATM</td>\n",
       "      <td>29921</td>\n",
       "      <td></td>\n",
       "      <td>C5</td>\n",
       "      <td></td>\n",
       "      <td>NAG</td>\n",
       "      <td></td>\n",
       "      <td>E</td>\n",
       "      <td>1</td>\n",
       "      <td></td>\n",
       "      <td>...</td>\n",
       "      <td>217.484</td>\n",
       "      <td>178.991</td>\n",
       "      <td>130.061</td>\n",
       "      <td>1.0</td>\n",
       "      <td>30.0</td>\n",
       "      <td></td>\n",
       "      <td></td>\n",
       "      <td>C</td>\n",
       "      <td>NaN</td>\n",
       "      <td>31813</td>\n",
       "    </tr>\n",
       "  </tbody>\n",
       "</table>\n",
       "<p>5 rows × 21 columns</p>\n",
       "</div>"
      ],
      "text/plain": [
       "  record_name  atom_number blank_1 atom_name alt_loc residue_name blank_2  \\\n",
       "0      HETATM        29917                C1                  NAG           \n",
       "1      HETATM        29918                C2                  NAG           \n",
       "2      HETATM        29919                C3                  NAG           \n",
       "3      HETATM        29920                C4                  NAG           \n",
       "4      HETATM        29921                C5                  NAG           \n",
       "\n",
       "  chain_id  residue_number insertion  ...  x_coord  y_coord  z_coord  \\\n",
       "0        E               1            ...  215.900  180.146  131.480   \n",
       "1        E               1            ...  216.579  179.615  132.737   \n",
       "2        E               1            ...  218.056  179.383  132.455   \n",
       "3        E               1            ...  218.213  178.429  131.280   \n",
       "4        E               1            ...  217.484  178.991  130.061   \n",
       "\n",
       "   occupancy  b_factor  blank_4 segment_id element_symbol charge  line_idx  \n",
       "0        1.0      30.0                                  C    NaN     31809  \n",
       "1        1.0      30.0                                  C    NaN     31810  \n",
       "2        1.0      30.0                                  C    NaN     31811  \n",
       "3        1.0      30.0                                  C    NaN     31812  \n",
       "4        1.0      30.0                                  C    NaN     31813  \n",
       "\n",
       "[5 rows x 21 columns]"
      ]
     },
     "execution_count": 7,
     "metadata": {},
     "output_type": "execute_result"
    }
   ],
   "source": [
    "ppdb.df['HETATM'].head()"
   ]
  },
  {
   "cell_type": "code",
   "execution_count": 8,
   "metadata": {},
   "outputs": [
    {
     "data": {
      "text/html": [
       "<div>\n",
       "<style scoped>\n",
       "    .dataframe tbody tr th:only-of-type {\n",
       "        vertical-align: middle;\n",
       "    }\n",
       "\n",
       "    .dataframe tbody tr th {\n",
       "        vertical-align: top;\n",
       "    }\n",
       "\n",
       "    .dataframe thead th {\n",
       "        text-align: right;\n",
       "    }\n",
       "</style>\n",
       "<table border=\"1\" class=\"dataframe\">\n",
       "  <thead>\n",
       "    <tr style=\"text-align: right;\">\n",
       "      <th></th>\n",
       "      <th>record_name</th>\n",
       "      <th>atom_number</th>\n",
       "      <th>blank_1</th>\n",
       "      <th>atom_name</th>\n",
       "      <th>alt_loc</th>\n",
       "      <th>residue_name</th>\n",
       "      <th>blank_2</th>\n",
       "      <th>chain_id</th>\n",
       "      <th>residue_number</th>\n",
       "      <th>insertion</th>\n",
       "      <th>...</th>\n",
       "      <th>U(1,1)</th>\n",
       "      <th>U(2,2)</th>\n",
       "      <th>U(3,3)</th>\n",
       "      <th>U(1,2)</th>\n",
       "      <th>U(1,3)</th>\n",
       "      <th>U(2,3)</th>\n",
       "      <th>blank_4</th>\n",
       "      <th>element_symbol</th>\n",
       "      <th>charge</th>\n",
       "      <th>line_idx</th>\n",
       "    </tr>\n",
       "  </thead>\n",
       "  <tbody>\n",
       "  </tbody>\n",
       "</table>\n",
       "<p>0 rows × 21 columns</p>\n",
       "</div>"
      ],
      "text/plain": [
       "Empty DataFrame\n",
       "Columns: [record_name, atom_number, blank_1, atom_name, alt_loc, residue_name, blank_2, chain_id, residue_number, insertion, blank_3, U(1,1), U(2,2), U(3,3), U(1,2), U(1,3), U(2,3), blank_4, element_symbol, charge, line_idx]\n",
       "Index: []\n",
       "\n",
       "[0 rows x 21 columns]"
      ]
     },
     "execution_count": 8,
     "metadata": {},
     "output_type": "execute_result"
    }
   ],
   "source": [
    "ppdb.df['ANISOU'].head()"
   ]
  },
  {
   "cell_type": "markdown",
   "metadata": {},
   "source": [
    "Since the DataFrames are fairly wide, let's us take a look at the columns by accessing the DataFrame's column attribute:"
   ]
  },
  {
   "cell_type": "code",
   "execution_count": 9,
   "metadata": {},
   "outputs": [
    {
     "data": {
      "text/plain": [
       "Index(['record_name', 'atom_number', 'blank_1', 'atom_name', 'alt_loc',\n",
       "       'residue_name', 'blank_2', 'chain_id', 'residue_number', 'insertion',\n",
       "       'blank_3', 'U(1,1)', 'U(2,2)', 'U(3,3)', 'U(1,2)', 'U(1,3)', 'U(2,3)',\n",
       "       'blank_4', 'element_symbol', 'charge', 'line_idx'],\n",
       "      dtype='object')"
      ]
     },
     "execution_count": 9,
     "metadata": {},
     "output_type": "execute_result"
    }
   ],
   "source": [
    "ppdb.df['ANISOU'].columns"
   ]
  },
  {
   "cell_type": "markdown",
   "metadata": {},
   "source": [
    "<br>\n",
    "\n",
    "##### <font color='brown'> ANISOU records are very similar to ATOM/HETATM records. In fact, the columns 7 - 27 and 73 - 80 are identical to their corresponding ATOM/HETATM records,<br> which means that the 'ANISOU' DataFrame doesn't have the following entries:"
   ]
  },
  {
   "cell_type": "code",
   "execution_count": 10,
   "metadata": {},
   "outputs": [
    {
     "data": {
      "text/plain": [
       "{'b_factor', 'occupancy', 'segment_id', 'x_coord', 'y_coord', 'z_coord'}"
      ]
     },
     "execution_count": 10,
     "metadata": {},
     "output_type": "execute_result"
    }
   ],
   "source": [
    "set(ppdb.df['ATOM'].columns).difference(set(ppdb.df['ANISOU'].columns))"
   ]
  },
  {
   "cell_type": "markdown",
   "metadata": {},
   "source": [
    "<br>\n",
    "\n",
    "##### <font color='brown'>Ah, another interesting thing to mention is that the columns already come with the types you'd expect (where object essentially \"means\" str here):</font>"
   ]
  },
  {
   "cell_type": "code",
   "execution_count": 11,
   "metadata": {},
   "outputs": [
    {
     "data": {
      "text/plain": [
       "record_name        object\n",
       "atom_number         int64\n",
       "blank_1            object\n",
       "atom_name          object\n",
       "alt_loc            object\n",
       "residue_name       object\n",
       "blank_2            object\n",
       "chain_id           object\n",
       "residue_number      int64\n",
       "insertion          object\n",
       "blank_3            object\n",
       "x_coord           float64\n",
       "y_coord           float64\n",
       "z_coord           float64\n",
       "occupancy         float64\n",
       "b_factor          float64\n",
       "blank_4            object\n",
       "segment_id         object\n",
       "element_symbol     object\n",
       "charge            float64\n",
       "line_idx            int64\n",
       "dtype: object"
      ]
     },
     "execution_count": 11,
     "metadata": {},
     "output_type": "execute_result"
    }
   ],
   "source": [
    "ppdb.df['ATOM'].dtypes"
   ]
  },
  {
   "cell_type": "code",
   "execution_count": 12,
   "metadata": {},
   "outputs": [
    {
     "data": {
      "text/html": [
       "<div>\n",
       "<style scoped>\n",
       "    .dataframe tbody tr th:only-of-type {\n",
       "        vertical-align: middle;\n",
       "    }\n",
       "\n",
       "    .dataframe tbody tr th {\n",
       "        vertical-align: top;\n",
       "    }\n",
       "\n",
       "    .dataframe thead th {\n",
       "        text-align: right;\n",
       "    }\n",
       "</style>\n",
       "<table border=\"1\" class=\"dataframe\">\n",
       "  <thead>\n",
       "    <tr style=\"text-align: right;\">\n",
       "      <th></th>\n",
       "      <th>record_name</th>\n",
       "      <th>entry</th>\n",
       "      <th>line_idx</th>\n",
       "    </tr>\n",
       "  </thead>\n",
       "  <tbody>\n",
       "    <tr>\n",
       "      <td>0</td>\n",
       "      <td>HEADER</td>\n",
       "      <td>VIRAL PROTEIN                           06...</td>\n",
       "      <td>0</td>\n",
       "    </tr>\n",
       "    <tr>\n",
       "      <td>1</td>\n",
       "      <td>TITLE</td>\n",
       "      <td>SARS-COV-2 S-ACE2 COMPLEX</td>\n",
       "      <td>1</td>\n",
       "    </tr>\n",
       "    <tr>\n",
       "      <td>2</td>\n",
       "      <td>COMPND</td>\n",
       "      <td>MOL_ID: 1;</td>\n",
       "      <td>2</td>\n",
       "    </tr>\n",
       "    <tr>\n",
       "      <td>3</td>\n",
       "      <td>COMPND</td>\n",
       "      <td>2 MOLECULE: ANGIOTENSIN-CONVERTING ENZYME 2;</td>\n",
       "      <td>3</td>\n",
       "    </tr>\n",
       "    <tr>\n",
       "      <td>4</td>\n",
       "      <td>COMPND</td>\n",
       "      <td>3 CHAIN: A;</td>\n",
       "      <td>4</td>\n",
       "    </tr>\n",
       "  </tbody>\n",
       "</table>\n",
       "</div>"
      ],
      "text/plain": [
       "  record_name                                              entry  line_idx\n",
       "0      HEADER      VIRAL PROTEIN                           06...         0\n",
       "1       TITLE                          SARS-COV-2 S-ACE2 COMPLEX         1\n",
       "2      COMPND                                         MOL_ID: 1;         2\n",
       "3      COMPND       2 MOLECULE: ANGIOTENSIN-CONVERTING ENZYME 2;         3\n",
       "4      COMPND                                        3 CHAIN: A;         4"
      ]
     },
     "execution_count": 12,
     "metadata": {},
     "output_type": "execute_result"
    }
   ],
   "source": [
    "ppdb.df['OTHERS'].head()"
   ]
  },
  {
   "cell_type": "code",
   "execution_count": 13,
   "metadata": {},
   "outputs": [
    {
     "data": {
      "text/html": [
       "<div>\n",
       "<style scoped>\n",
       "    .dataframe tbody tr th:only-of-type {\n",
       "        vertical-align: middle;\n",
       "    }\n",
       "\n",
       "    .dataframe tbody tr th {\n",
       "        vertical-align: top;\n",
       "    }\n",
       "\n",
       "    .dataframe thead th {\n",
       "        text-align: right;\n",
       "    }\n",
       "</style>\n",
       "<table border=\"1\" class=\"dataframe\">\n",
       "  <thead>\n",
       "    <tr style=\"text-align: right;\">\n",
       "      <th></th>\n",
       "      <th>record_name</th>\n",
       "      <th>atom_number</th>\n",
       "      <th>blank_1</th>\n",
       "      <th>atom_name</th>\n",
       "      <th>alt_loc</th>\n",
       "      <th>residue_name</th>\n",
       "      <th>blank_2</th>\n",
       "      <th>chain_id</th>\n",
       "      <th>residue_number</th>\n",
       "      <th>insertion</th>\n",
       "      <th>...</th>\n",
       "      <th>x_coord</th>\n",
       "      <th>y_coord</th>\n",
       "      <th>z_coord</th>\n",
       "      <th>occupancy</th>\n",
       "      <th>b_factor</th>\n",
       "      <th>blank_4</th>\n",
       "      <th>segment_id</th>\n",
       "      <th>element_symbol</th>\n",
       "      <th>charge</th>\n",
       "      <th>line_idx</th>\n",
       "    </tr>\n",
       "  </thead>\n",
       "  <tbody>\n",
       "    <tr>\n",
       "      <td>48</td>\n",
       "      <td>ATOM</td>\n",
       "      <td>49</td>\n",
       "      <td></td>\n",
       "      <td>N</td>\n",
       "      <td></td>\n",
       "      <td>ALA</td>\n",
       "      <td></td>\n",
       "      <td>A</td>\n",
       "      <td>25</td>\n",
       "      <td></td>\n",
       "      <td>...</td>\n",
       "      <td>181.270</td>\n",
       "      <td>193.495</td>\n",
       "      <td>289.393</td>\n",
       "      <td>1.0</td>\n",
       "      <td>141.65</td>\n",
       "      <td></td>\n",
       "      <td></td>\n",
       "      <td>N</td>\n",
       "      <td>NaN</td>\n",
       "      <td>1941</td>\n",
       "    </tr>\n",
       "    <tr>\n",
       "      <td>49</td>\n",
       "      <td>ATOM</td>\n",
       "      <td>50</td>\n",
       "      <td></td>\n",
       "      <td>CA</td>\n",
       "      <td></td>\n",
       "      <td>ALA</td>\n",
       "      <td></td>\n",
       "      <td>A</td>\n",
       "      <td>25</td>\n",
       "      <td></td>\n",
       "      <td>...</td>\n",
       "      <td>180.306</td>\n",
       "      <td>194.503</td>\n",
       "      <td>289.820</td>\n",
       "      <td>1.0</td>\n",
       "      <td>141.65</td>\n",
       "      <td></td>\n",
       "      <td></td>\n",
       "      <td>C</td>\n",
       "      <td>NaN</td>\n",
       "      <td>1942</td>\n",
       "    </tr>\n",
       "    <tr>\n",
       "      <td>50</td>\n",
       "      <td>ATOM</td>\n",
       "      <td>51</td>\n",
       "      <td></td>\n",
       "      <td>C</td>\n",
       "      <td></td>\n",
       "      <td>ALA</td>\n",
       "      <td></td>\n",
       "      <td>A</td>\n",
       "      <td>25</td>\n",
       "      <td></td>\n",
       "      <td>...</td>\n",
       "      <td>179.869</td>\n",
       "      <td>195.383</td>\n",
       "      <td>288.657</td>\n",
       "      <td>1.0</td>\n",
       "      <td>141.65</td>\n",
       "      <td></td>\n",
       "      <td></td>\n",
       "      <td>C</td>\n",
       "      <td>NaN</td>\n",
       "      <td>1943</td>\n",
       "    </tr>\n",
       "    <tr>\n",
       "      <td>51</td>\n",
       "      <td>ATOM</td>\n",
       "      <td>52</td>\n",
       "      <td></td>\n",
       "      <td>O</td>\n",
       "      <td></td>\n",
       "      <td>ALA</td>\n",
       "      <td></td>\n",
       "      <td>A</td>\n",
       "      <td>25</td>\n",
       "      <td></td>\n",
       "      <td>...</td>\n",
       "      <td>178.698</td>\n",
       "      <td>195.770</td>\n",
       "      <td>288.572</td>\n",
       "      <td>1.0</td>\n",
       "      <td>141.65</td>\n",
       "      <td></td>\n",
       "      <td></td>\n",
       "      <td>O</td>\n",
       "      <td>NaN</td>\n",
       "      <td>1944</td>\n",
       "    </tr>\n",
       "    <tr>\n",
       "      <td>52</td>\n",
       "      <td>ATOM</td>\n",
       "      <td>53</td>\n",
       "      <td></td>\n",
       "      <td>CB</td>\n",
       "      <td></td>\n",
       "      <td>ALA</td>\n",
       "      <td></td>\n",
       "      <td>A</td>\n",
       "      <td>25</td>\n",
       "      <td></td>\n",
       "      <td>...</td>\n",
       "      <td>180.898</td>\n",
       "      <td>195.352</td>\n",
       "      <td>290.944</td>\n",
       "      <td>1.0</td>\n",
       "      <td>138.73</td>\n",
       "      <td></td>\n",
       "      <td></td>\n",
       "      <td>C</td>\n",
       "      <td>NaN</td>\n",
       "      <td>1945</td>\n",
       "    </tr>\n",
       "  </tbody>\n",
       "</table>\n",
       "<p>5 rows × 21 columns</p>\n",
       "</div>"
      ],
      "text/plain": [
       "   record_name  atom_number blank_1 atom_name alt_loc residue_name blank_2  \\\n",
       "48        ATOM           49                 N                  ALA           \n",
       "49        ATOM           50                CA                  ALA           \n",
       "50        ATOM           51                 C                  ALA           \n",
       "51        ATOM           52                 O                  ALA           \n",
       "52        ATOM           53                CB                  ALA           \n",
       "\n",
       "   chain_id  residue_number insertion  ...  x_coord  y_coord  z_coord  \\\n",
       "48        A              25            ...  181.270  193.495  289.393   \n",
       "49        A              25            ...  180.306  194.503  289.820   \n",
       "50        A              25            ...  179.869  195.383  288.657   \n",
       "51        A              25            ...  178.698  195.770  288.572   \n",
       "52        A              25            ...  180.898  195.352  290.944   \n",
       "\n",
       "    occupancy  b_factor  blank_4 segment_id element_symbol charge  line_idx  \n",
       "48        1.0    141.65                                  N    NaN      1941  \n",
       "49        1.0    141.65                                  C    NaN      1942  \n",
       "50        1.0    141.65                                  C    NaN      1943  \n",
       "51        1.0    141.65                                  O    NaN      1944  \n",
       "52        1.0    138.73                                  C    NaN      1945  \n",
       "\n",
       "[5 rows x 21 columns]"
      ]
     },
     "execution_count": 13,
     "metadata": {},
     "output_type": "execute_result"
    }
   ],
   "source": [
    "#let's get all Alanine residues:\n",
    "ppdb.df['ATOM'][ppdb.df['ATOM']['residue_name'] == 'ALA'].head()"
   ]
  },
  {
   "cell_type": "code",
   "execution_count": 14,
   "metadata": {},
   "outputs": [
    {
     "data": {
      "text/html": [
       "<div>\n",
       "<style scoped>\n",
       "    .dataframe tbody tr th:only-of-type {\n",
       "        vertical-align: middle;\n",
       "    }\n",
       "\n",
       "    .dataframe tbody tr th {\n",
       "        vertical-align: top;\n",
       "    }\n",
       "\n",
       "    .dataframe thead th {\n",
       "        text-align: right;\n",
       "    }\n",
       "</style>\n",
       "<table border=\"1\" class=\"dataframe\">\n",
       "  <thead>\n",
       "    <tr style=\"text-align: right;\">\n",
       "      <th></th>\n",
       "      <th>record_name</th>\n",
       "      <th>atom_number</th>\n",
       "      <th>blank_1</th>\n",
       "      <th>atom_name</th>\n",
       "      <th>alt_loc</th>\n",
       "      <th>residue_name</th>\n",
       "      <th>blank_2</th>\n",
       "      <th>chain_id</th>\n",
       "      <th>residue_number</th>\n",
       "      <th>insertion</th>\n",
       "      <th>...</th>\n",
       "      <th>x_coord</th>\n",
       "      <th>y_coord</th>\n",
       "      <th>z_coord</th>\n",
       "      <th>occupancy</th>\n",
       "      <th>b_factor</th>\n",
       "      <th>blank_4</th>\n",
       "      <th>segment_id</th>\n",
       "      <th>element_symbol</th>\n",
       "      <th>charge</th>\n",
       "      <th>line_idx</th>\n",
       "    </tr>\n",
       "  </thead>\n",
       "  <tbody>\n",
       "    <tr>\n",
       "      <td>2</td>\n",
       "      <td>ATOM</td>\n",
       "      <td>3</td>\n",
       "      <td></td>\n",
       "      <td>C</td>\n",
       "      <td></td>\n",
       "      <td>SER</td>\n",
       "      <td></td>\n",
       "      <td>A</td>\n",
       "      <td>19</td>\n",
       "      <td></td>\n",
       "      <td>...</td>\n",
       "      <td>186.651</td>\n",
       "      <td>188.619</td>\n",
       "      <td>288.010</td>\n",
       "      <td>1.0</td>\n",
       "      <td>140.94</td>\n",
       "      <td></td>\n",
       "      <td></td>\n",
       "      <td>C</td>\n",
       "      <td>NaN</td>\n",
       "      <td>1895</td>\n",
       "    </tr>\n",
       "    <tr>\n",
       "      <td>8</td>\n",
       "      <td>ATOM</td>\n",
       "      <td>9</td>\n",
       "      <td></td>\n",
       "      <td>C</td>\n",
       "      <td></td>\n",
       "      <td>THR</td>\n",
       "      <td></td>\n",
       "      <td>A</td>\n",
       "      <td>20</td>\n",
       "      <td></td>\n",
       "      <td>...</td>\n",
       "      <td>186.455</td>\n",
       "      <td>191.255</td>\n",
       "      <td>289.610</td>\n",
       "      <td>1.0</td>\n",
       "      <td>140.89</td>\n",
       "      <td></td>\n",
       "      <td></td>\n",
       "      <td>C</td>\n",
       "      <td>NaN</td>\n",
       "      <td>1901</td>\n",
       "    </tr>\n",
       "    <tr>\n",
       "      <td>15</td>\n",
       "      <td>ATOM</td>\n",
       "      <td>16</td>\n",
       "      <td></td>\n",
       "      <td>C</td>\n",
       "      <td></td>\n",
       "      <td>ILE</td>\n",
       "      <td></td>\n",
       "      <td>A</td>\n",
       "      <td>21</td>\n",
       "      <td></td>\n",
       "      <td>...</td>\n",
       "      <td>185.058</td>\n",
       "      <td>193.598</td>\n",
       "      <td>290.791</td>\n",
       "      <td>1.0</td>\n",
       "      <td>140.21</td>\n",
       "      <td></td>\n",
       "      <td></td>\n",
       "      <td>C</td>\n",
       "      <td>NaN</td>\n",
       "      <td>1908</td>\n",
       "    </tr>\n",
       "    <tr>\n",
       "      <td>23</td>\n",
       "      <td>ATOM</td>\n",
       "      <td>24</td>\n",
       "      <td></td>\n",
       "      <td>C</td>\n",
       "      <td></td>\n",
       "      <td>GLU</td>\n",
       "      <td></td>\n",
       "      <td>A</td>\n",
       "      <td>22</td>\n",
       "      <td></td>\n",
       "      <td>...</td>\n",
       "      <td>184.959</td>\n",
       "      <td>195.066</td>\n",
       "      <td>288.120</td>\n",
       "      <td>1.0</td>\n",
       "      <td>140.10</td>\n",
       "      <td></td>\n",
       "      <td></td>\n",
       "      <td>C</td>\n",
       "      <td>NaN</td>\n",
       "      <td>1916</td>\n",
       "    </tr>\n",
       "    <tr>\n",
       "      <td>32</td>\n",
       "      <td>ATOM</td>\n",
       "      <td>33</td>\n",
       "      <td></td>\n",
       "      <td>C</td>\n",
       "      <td></td>\n",
       "      <td>GLU</td>\n",
       "      <td></td>\n",
       "      <td>A</td>\n",
       "      <td>23</td>\n",
       "      <td></td>\n",
       "      <td>...</td>\n",
       "      <td>183.261</td>\n",
       "      <td>192.802</td>\n",
       "      <td>286.676</td>\n",
       "      <td>1.0</td>\n",
       "      <td>141.60</td>\n",
       "      <td></td>\n",
       "      <td></td>\n",
       "      <td>C</td>\n",
       "      <td>NaN</td>\n",
       "      <td>1925</td>\n",
       "    </tr>\n",
       "  </tbody>\n",
       "</table>\n",
       "<p>5 rows × 21 columns</p>\n",
       "</div>"
      ],
      "text/plain": [
       "   record_name  atom_number blank_1 atom_name alt_loc residue_name blank_2  \\\n",
       "2         ATOM            3                 C                  SER           \n",
       "8         ATOM            9                 C                  THR           \n",
       "15        ATOM           16                 C                  ILE           \n",
       "23        ATOM           24                 C                  GLU           \n",
       "32        ATOM           33                 C                  GLU           \n",
       "\n",
       "   chain_id  residue_number insertion  ...  x_coord  y_coord  z_coord  \\\n",
       "2         A              19            ...  186.651  188.619  288.010   \n",
       "8         A              20            ...  186.455  191.255  289.610   \n",
       "15        A              21            ...  185.058  193.598  290.791   \n",
       "23        A              22            ...  184.959  195.066  288.120   \n",
       "32        A              23            ...  183.261  192.802  286.676   \n",
       "\n",
       "    occupancy  b_factor  blank_4 segment_id element_symbol charge  line_idx  \n",
       "2         1.0    140.94                                  C    NaN      1895  \n",
       "8         1.0    140.89                                  C    NaN      1901  \n",
       "15        1.0    140.21                                  C    NaN      1908  \n",
       "23        1.0    140.10                                  C    NaN      1916  \n",
       "32        1.0    141.60                                  C    NaN      1925  \n",
       "\n",
       "[5 rows x 21 columns]"
      ]
     },
     "execution_count": 14,
     "metadata": {},
     "output_type": "execute_result"
    }
   ],
   "source": [
    "#main chain atoms:\n",
    "ppdb.df['ATOM'][ppdb.df['ATOM']['atom_name'] == 'C'].head()"
   ]
  },
  {
   "cell_type": "code",
   "execution_count": 15,
   "metadata": {},
   "outputs": [
    {
     "data": {
      "text/html": [
       "<div>\n",
       "<style scoped>\n",
       "    .dataframe tbody tr th:only-of-type {\n",
       "        vertical-align: middle;\n",
       "    }\n",
       "\n",
       "    .dataframe tbody tr th {\n",
       "        vertical-align: top;\n",
       "    }\n",
       "\n",
       "    .dataframe thead th {\n",
       "        text-align: right;\n",
       "    }\n",
       "</style>\n",
       "<table border=\"1\" class=\"dataframe\">\n",
       "  <thead>\n",
       "    <tr style=\"text-align: right;\">\n",
       "      <th></th>\n",
       "      <th>record_name</th>\n",
       "      <th>atom_number</th>\n",
       "      <th>blank_1</th>\n",
       "      <th>atom_name</th>\n",
       "      <th>alt_loc</th>\n",
       "      <th>residue_name</th>\n",
       "      <th>blank_2</th>\n",
       "      <th>chain_id</th>\n",
       "      <th>residue_number</th>\n",
       "      <th>insertion</th>\n",
       "      <th>...</th>\n",
       "      <th>x_coord</th>\n",
       "      <th>y_coord</th>\n",
       "      <th>z_coord</th>\n",
       "      <th>occupancy</th>\n",
       "      <th>b_factor</th>\n",
       "      <th>blank_4</th>\n",
       "      <th>segment_id</th>\n",
       "      <th>element_symbol</th>\n",
       "      <th>charge</th>\n",
       "      <th>line_idx</th>\n",
       "    </tr>\n",
       "  </thead>\n",
       "  <tbody>\n",
       "    <tr>\n",
       "      <td>0</td>\n",
       "      <td>ATOM</td>\n",
       "      <td>1</td>\n",
       "      <td></td>\n",
       "      <td>N</td>\n",
       "      <td></td>\n",
       "      <td>SER</td>\n",
       "      <td></td>\n",
       "      <td>A</td>\n",
       "      <td>19</td>\n",
       "      <td></td>\n",
       "      <td>...</td>\n",
       "      <td>185.293</td>\n",
       "      <td>188.581</td>\n",
       "      <td>285.962</td>\n",
       "      <td>1.0</td>\n",
       "      <td>140.94</td>\n",
       "      <td></td>\n",
       "      <td></td>\n",
       "      <td>N</td>\n",
       "      <td>NaN</td>\n",
       "      <td>1893</td>\n",
       "    </tr>\n",
       "    <tr>\n",
       "      <td>3</td>\n",
       "      <td>ATOM</td>\n",
       "      <td>4</td>\n",
       "      <td></td>\n",
       "      <td>O</td>\n",
       "      <td></td>\n",
       "      <td>SER</td>\n",
       "      <td></td>\n",
       "      <td>A</td>\n",
       "      <td>19</td>\n",
       "      <td></td>\n",
       "      <td>...</td>\n",
       "      <td>186.284</td>\n",
       "      <td>188.169</td>\n",
       "      <td>289.095</td>\n",
       "      <td>1.0</td>\n",
       "      <td>140.94</td>\n",
       "      <td></td>\n",
       "      <td></td>\n",
       "      <td>O</td>\n",
       "      <td>NaN</td>\n",
       "      <td>1896</td>\n",
       "    </tr>\n",
       "    <tr>\n",
       "      <td>5</td>\n",
       "      <td>ATOM</td>\n",
       "      <td>6</td>\n",
       "      <td></td>\n",
       "      <td>OG</td>\n",
       "      <td></td>\n",
       "      <td>SER</td>\n",
       "      <td></td>\n",
       "      <td>A</td>\n",
       "      <td>19</td>\n",
       "      <td></td>\n",
       "      <td>...</td>\n",
       "      <td>188.627</td>\n",
       "      <td>187.095</td>\n",
       "      <td>286.597</td>\n",
       "      <td>1.0</td>\n",
       "      <td>140.20</td>\n",
       "      <td></td>\n",
       "      <td></td>\n",
       "      <td>O</td>\n",
       "      <td>NaN</td>\n",
       "      <td>1898</td>\n",
       "    </tr>\n",
       "    <tr>\n",
       "      <td>6</td>\n",
       "      <td>ATOM</td>\n",
       "      <td>7</td>\n",
       "      <td></td>\n",
       "      <td>N</td>\n",
       "      <td></td>\n",
       "      <td>THR</td>\n",
       "      <td></td>\n",
       "      <td>A</td>\n",
       "      <td>20</td>\n",
       "      <td></td>\n",
       "      <td>...</td>\n",
       "      <td>187.339</td>\n",
       "      <td>189.752</td>\n",
       "      <td>287.889</td>\n",
       "      <td>1.0</td>\n",
       "      <td>140.89</td>\n",
       "      <td></td>\n",
       "      <td></td>\n",
       "      <td>N</td>\n",
       "      <td>NaN</td>\n",
       "      <td>1899</td>\n",
       "    </tr>\n",
       "    <tr>\n",
       "      <td>9</td>\n",
       "      <td>ATOM</td>\n",
       "      <td>10</td>\n",
       "      <td></td>\n",
       "      <td>O</td>\n",
       "      <td></td>\n",
       "      <td>THR</td>\n",
       "      <td></td>\n",
       "      <td>A</td>\n",
       "      <td>20</td>\n",
       "      <td></td>\n",
       "      <td>...</td>\n",
       "      <td>185.450</td>\n",
       "      <td>191.446</td>\n",
       "      <td>288.920</td>\n",
       "      <td>1.0</td>\n",
       "      <td>140.89</td>\n",
       "      <td></td>\n",
       "      <td></td>\n",
       "      <td>O</td>\n",
       "      <td>NaN</td>\n",
       "      <td>1902</td>\n",
       "    </tr>\n",
       "  </tbody>\n",
       "</table>\n",
       "<p>5 rows × 21 columns</p>\n",
       "</div>"
      ],
      "text/plain": [
       "  record_name  atom_number blank_1 atom_name alt_loc residue_name blank_2  \\\n",
       "0        ATOM            1                 N                  SER           \n",
       "3        ATOM            4                 O                  SER           \n",
       "5        ATOM            6                OG                  SER           \n",
       "6        ATOM            7                 N                  THR           \n",
       "9        ATOM           10                 O                  THR           \n",
       "\n",
       "  chain_id  residue_number insertion  ...  x_coord  y_coord  z_coord  \\\n",
       "0        A              19            ...  185.293  188.581  285.962   \n",
       "3        A              19            ...  186.284  188.169  289.095   \n",
       "5        A              19            ...  188.627  187.095  286.597   \n",
       "6        A              20            ...  187.339  189.752  287.889   \n",
       "9        A              20            ...  185.450  191.446  288.920   \n",
       "\n",
       "   occupancy  b_factor  blank_4 segment_id element_symbol charge  line_idx  \n",
       "0        1.0    140.94                                  N    NaN      1893  \n",
       "3        1.0    140.94                                  O    NaN      1896  \n",
       "5        1.0    140.20                                  O    NaN      1898  \n",
       "6        1.0    140.89                                  N    NaN      1899  \n",
       "9        1.0    140.89                                  O    NaN      1902  \n",
       "\n",
       "[5 rows x 21 columns]"
      ]
     },
     "execution_count": 15,
     "metadata": {},
     "output_type": "execute_result"
    }
   ],
   "source": [
    "#main chain atoms without specific atom\n",
    "ppdb.df['ATOM'][ppdb.df['ATOM']['element_symbol'] != 'C'].head()"
   ]
  },
  {
   "cell_type": "code",
   "execution_count": 16,
   "metadata": {},
   "outputs": [
    {
     "name": "stdout",
     "output_type": "stream",
     "text": [
      "Average B-Factor [Main Chain]: 120.74\n"
     ]
    }
   ],
   "source": [
    "#let's compute the average temperature factor of our protein main chain:\n",
    "mainchain = ppdb.df['ATOM'][(ppdb.df['ATOM']['atom_name'] == 'C') | \n",
    "                            (ppdb.df['ATOM']['atom_name'] == 'O') | \n",
    "                            (ppdb.df['ATOM']['atom_name'] == 'N') |\n",
    "                            (ppdb.df['ATOM']['atom_name'] == 'H') |\n",
    "                            (ppdb.df['ATOM']['atom_name'] == 'CA')]\n",
    "\n",
    "bfact_mc_avg = mainchain['b_factor'].mean()\n",
    "print('Average B-Factor [Main Chain]: %.2f' % bfact_mc_avg)"
   ]
  },
  {
   "cell_type": "markdown",
   "metadata": {},
   "source": [
    "## <font color = \"brown\"> Visualization using Plots/Graphs\n",
    "\n",
    "##### <font color = \"black\"> Matplotlib is a comprehensive library for creating static, animated, and interactive visualizations in Python.<br> Since we are using pandas, which in turns uses matplotlib under the hood, <br>we can produce quick summary plots of our PDB structures relatively conveniently: </font>"
   ]
  },
  {
   "cell_type": "code",
   "execution_count": 17,
   "metadata": {},
   "outputs": [],
   "source": [
    "#import modules or can be downloaded from conda at https://anaconda.org/conda-forge/matplotlib\n",
    "%matplotlib inline\n",
    "import matplotlib.pyplot as plt\n",
    "from matplotlib import style\n",
    "#style.use('ggplot')"
   ]
  },
  {
   "cell_type": "code",
   "execution_count": 44,
   "metadata": {},
   "outputs": [
    {
     "data": {
      "image/png": "[encoded data removed]",
      "text/plain": [
       "<Figure size 432x576 with 1 Axes>"
      ]
     },
     "metadata": {
      "needs_background": "light"
     },
     "output_type": "display_data"
    },
    {
     "data": {
      "text/plain": [
       "<Figure size 432x288 with 0 Axes>"
      ]
     },
     "metadata": {},
     "output_type": "display_data"
    }
   ],
   "source": [
    "ppdb.df['ATOM']['b_factor'].plot(kind='hist',figsize=(6,8), color='#008080', bins =20,grid = True, stacked=True)\n",
    "plt.title('Distribution of B-Factors')\n",
    "plt.xlabel('B-factor')\n",
    "plt.ylabel('count')\n",
    "plt.show()\n",
    "plt.savefig(\"./img/b-factor_hist.png\") #to save images with required dimensions, name, resolution and side"
   ]
  },
  {
   "cell_type": "code",
   "execution_count": 19,
   "metadata": {},
   "outputs": [
    {
     "data": {
      "image/png": "[encoded data removed]",
      "text/plain": [
       "<Figure size 720x576 with 1 Axes>"
      ]
     },
     "metadata": {
      "needs_background": "light"
     },
     "output_type": "display_data"
    },
    {
     "data": {
      "text/plain": [
       "<Figure size 432x288 with 0 Axes>"
      ]
     },
     "metadata": {},
     "output_type": "display_data"
    }
   ],
   "source": [
    "ppdb.df['ATOM']['b_factor'].plot(kind='line',figsize=(10,8), color='#008080',grid = True)\n",
    "plt.title('B-Factors Along the Amino Acid Chain')\n",
    "plt.xlabel('Residue Number')\n",
    "plt.ylabel('B-factor in $A^2$')\n",
    "plt.show()\n",
    "plt.savefig(\"./img/b-factor_line.png\")"
   ]
  },
  {
   "cell_type": "code",
   "execution_count": 20,
   "metadata": {},
   "outputs": [
    {
     "data": {
      "image/png": "[encoded data removed]",
      "text/plain": [
       "<Figure size 432x576 with 1 Axes>"
      ]
     },
     "metadata": {
      "needs_background": "light"
     },
     "output_type": "display_data"
    },
    {
     "data": {
      "text/plain": [
       "<Figure size 432x288 with 0 Axes>"
      ]
     },
     "metadata": {},
     "output_type": "display_data"
    }
   ],
   "source": [
    "ppdb.df['ATOM']['element_symbol'].value_counts().plot(kind='bar',figsize=(6,8), color='#008080',grid = True)\n",
    "plt.title('Distribution of Atom Types')\n",
    "plt.xlabel('elements')\n",
    "plt.ylabel('count')\n",
    "plt.show()\n",
    "plt.savefig(\"./img/b-factor_count.png\")"
   ]
  },
  {
   "cell_type": "markdown",
   "metadata": {},
   "source": [
    "## <font color = \"brown\">  Computing the Root Mean Square Deviation</font><br>\n",
    "\n",
    "##### <font color = \"black\"> BioPandas also comes with certain convenience functions, for example, ...<br>The Root-mean-square deviation (RMSD) is simply a measure of the average distance between atoms of 2 protein or ligand structures.</font>"
   ]
  },
  {
   "cell_type": "code",
   "execution_count": 21,
   "metadata": {},
   "outputs": [
    {
     "name": "stdout",
     "output_type": "stream",
     "text": [
      "RMSD: 2.6444 Angstrom\n"
     ]
    }
   ],
   "source": [
    "from biopandas.pdb import PandasPdb\n",
    "\n",
    "l_1 = PandasPdb().read_pdb('./data/lig_conf_1.pdb')\n",
    "l_2 = PandasPdb().read_pdb('./data/lig_conf_2.pdb')\n",
    "r = PandasPdb.rmsd(l_1.df['HETATM'], l_2.df['HETATM'],s=None) # all atoms, including hydrogens\n",
    "print('RMSD: %.4f Angstrom' % r)"
   ]
  },
  {
   "cell_type": "code",
   "execution_count": 22,
   "metadata": {},
   "outputs": [
    {
     "name": "stdout",
     "output_type": "stream",
     "text": [
      "RMSD: 3.1405 Angstrom\n"
     ]
    }
   ],
   "source": [
    "r = PandasPdb.rmsd(l_1.df['HETATM'], l_2.df['HETATM'], s='carbon') # carbon atoms only\n",
    "print('RMSD: %.4f Angstrom' % r)"
   ]
  },
  {
   "cell_type": "code",
   "execution_count": 23,
   "metadata": {},
   "outputs": [
    {
     "name": "stdout",
     "output_type": "stream",
     "text": [
      "RMSD: 1.9959 Angstrom\n"
     ]
    }
   ],
   "source": [
    "r = PandasPdb.rmsd(l_1.df['HETATM'], l_2.df['HETATM'], s='heavy') # heavy atoms only\n",
    "print('RMSD: %.4f Angstrom' % r)"
   ]
  },
  {
   "cell_type": "markdown",
   "metadata": {},
   "source": [
    "<br>\n",
    "\n",
    "##### <font color = \"black\">Similarly, we can compute the RMSD between 2 related protein structures:<br>The hydrogen-free RMSD:</font>"
   ]
  },
  {
   "cell_type": "code",
   "execution_count": 24,
   "metadata": {},
   "outputs": [
    {
     "name": "stdout",
     "output_type": "stream",
     "text": [
      "RMSD: 0.7377 Angstrom\n"
     ]
    }
   ],
   "source": [
    "p_1 = PandasPdb().read_pdb('./data/1t48_995.pdb')\n",
    "p_2 = PandasPdb().read_pdb('./data/1t49_995.pdb')\n",
    "r = PandasPdb.rmsd(p_1.df['ATOM'], p_2.df['ATOM'], s='heavy')\n",
    "print('RMSD: %.4f Angstrom' % r)"
   ]
  },
  {
   "cell_type": "markdown",
   "metadata": {},
   "source": [
    "## <font color = \"brown\"> Filtering PDBs by Distance</font>\n",
    "\n",
    "##### <font color = \"black\">We can use the distance method to compute the distance between each atom (or a subset of atoms) <br>in our data frame and a three-dimensional reference point. For example:"
   ]
  },
  {
   "cell_type": "code",
   "execution_count": 25,
   "metadata": {},
   "outputs": [],
   "source": [
    "p_1 = PandasPdb().read_pdb('./data/3eiy.pdb')\n",
    "\n",
    "reference_point = (9.362, 41.410, 10.542)\n",
    "distances = p_1.distance(xyz=reference_point, records=('ATOM',))"
   ]
  },
  {
   "cell_type": "code",
   "execution_count": 26,
   "metadata": {},
   "outputs": [
    {
     "data": {
      "text/plain": [
       "0    19.267419\n",
       "1    18.306060\n",
       "2    16.976934\n",
       "3    16.902897\n",
       "4    18.124171\n",
       "dtype: float64"
      ]
     },
     "execution_count": 26,
     "metadata": {},
     "output_type": "execute_result"
    }
   ],
   "source": [
    "distances.head()"
   ]
  },
  {
   "cell_type": "markdown",
   "metadata": {},
   "source": [
    "<br>\n",
    "\n",
    "##### <font color = \"maroon\">And we can use this Series object, for instance, to select certain atoms in our DataFrame that fall within a desired distance threshold.<br> For example, let's select all atoms that are within 7A of our reference point:</font>"
   ]
  },
  {
   "cell_type": "code",
   "execution_count": 27,
   "metadata": {},
   "outputs": [
    {
     "data": {
      "text/html": [
       "<div>\n",
       "<style scoped>\n",
       "    .dataframe tbody tr th:only-of-type {\n",
       "        vertical-align: middle;\n",
       "    }\n",
       "\n",
       "    .dataframe tbody tr th {\n",
       "        vertical-align: top;\n",
       "    }\n",
       "\n",
       "    .dataframe thead th {\n",
       "        text-align: right;\n",
       "    }\n",
       "</style>\n",
       "<table border=\"1\" class=\"dataframe\">\n",
       "  <thead>\n",
       "    <tr style=\"text-align: right;\">\n",
       "      <th></th>\n",
       "      <th>record_name</th>\n",
       "      <th>atom_number</th>\n",
       "      <th>blank_1</th>\n",
       "      <th>atom_name</th>\n",
       "      <th>alt_loc</th>\n",
       "      <th>residue_name</th>\n",
       "      <th>blank_2</th>\n",
       "      <th>chain_id</th>\n",
       "      <th>residue_number</th>\n",
       "      <th>insertion</th>\n",
       "      <th>...</th>\n",
       "      <th>x_coord</th>\n",
       "      <th>y_coord</th>\n",
       "      <th>z_coord</th>\n",
       "      <th>occupancy</th>\n",
       "      <th>b_factor</th>\n",
       "      <th>blank_4</th>\n",
       "      <th>segment_id</th>\n",
       "      <th>element_symbol</th>\n",
       "      <th>charge</th>\n",
       "      <th>line_idx</th>\n",
       "    </tr>\n",
       "  </thead>\n",
       "  <tbody>\n",
       "    <tr>\n",
       "      <td>786</td>\n",
       "      <td>ATOM</td>\n",
       "      <td>787</td>\n",
       "      <td></td>\n",
       "      <td>CB</td>\n",
       "      <td></td>\n",
       "      <td>LEU</td>\n",
       "      <td></td>\n",
       "      <td>A</td>\n",
       "      <td>106</td>\n",
       "      <td></td>\n",
       "      <td>...</td>\n",
       "      <td>13.857</td>\n",
       "      <td>39.118</td>\n",
       "      <td>10.784</td>\n",
       "      <td>1.0</td>\n",
       "      <td>25.38</td>\n",
       "      <td></td>\n",
       "      <td></td>\n",
       "      <td>C</td>\n",
       "      <td>NaN</td>\n",
       "      <td>1395</td>\n",
       "    </tr>\n",
       "    <tr>\n",
       "      <td>787</td>\n",
       "      <td>ATOM</td>\n",
       "      <td>788</td>\n",
       "      <td></td>\n",
       "      <td>CG</td>\n",
       "      <td></td>\n",
       "      <td>LEU</td>\n",
       "      <td></td>\n",
       "      <td>A</td>\n",
       "      <td>106</td>\n",
       "      <td></td>\n",
       "      <td>...</td>\n",
       "      <td>14.443</td>\n",
       "      <td>38.394</td>\n",
       "      <td>9.564</td>\n",
       "      <td>1.0</td>\n",
       "      <td>27.94</td>\n",
       "      <td></td>\n",
       "      <td></td>\n",
       "      <td>C</td>\n",
       "      <td>NaN</td>\n",
       "      <td>1396</td>\n",
       "    </tr>\n",
       "    <tr>\n",
       "      <td>788</td>\n",
       "      <td>ATOM</td>\n",
       "      <td>789</td>\n",
       "      <td></td>\n",
       "      <td>CD1</td>\n",
       "      <td></td>\n",
       "      <td>LEU</td>\n",
       "      <td></td>\n",
       "      <td>A</td>\n",
       "      <td>106</td>\n",
       "      <td></td>\n",
       "      <td>...</td>\n",
       "      <td>13.727</td>\n",
       "      <td>37.094</td>\n",
       "      <td>9.184</td>\n",
       "      <td>1.0</td>\n",
       "      <td>27.95</td>\n",
       "      <td></td>\n",
       "      <td></td>\n",
       "      <td>C</td>\n",
       "      <td>NaN</td>\n",
       "      <td>1397</td>\n",
       "    </tr>\n",
       "    <tr>\n",
       "      <td>789</td>\n",
       "      <td>ATOM</td>\n",
       "      <td>790</td>\n",
       "      <td></td>\n",
       "      <td>CD2</td>\n",
       "      <td></td>\n",
       "      <td>LEU</td>\n",
       "      <td></td>\n",
       "      <td>A</td>\n",
       "      <td>106</td>\n",
       "      <td></td>\n",
       "      <td>...</td>\n",
       "      <td>14.567</td>\n",
       "      <td>39.332</td>\n",
       "      <td>8.388</td>\n",
       "      <td>1.0</td>\n",
       "      <td>26.61</td>\n",
       "      <td></td>\n",
       "      <td></td>\n",
       "      <td>C</td>\n",
       "      <td>NaN</td>\n",
       "      <td>1398</td>\n",
       "    </tr>\n",
       "    <tr>\n",
       "      <td>790</td>\n",
       "      <td>ATOM</td>\n",
       "      <td>791</td>\n",
       "      <td></td>\n",
       "      <td>N</td>\n",
       "      <td></td>\n",
       "      <td>VAL</td>\n",
       "      <td></td>\n",
       "      <td>A</td>\n",
       "      <td>107</td>\n",
       "      <td></td>\n",
       "      <td>...</td>\n",
       "      <td>14.523</td>\n",
       "      <td>39.257</td>\n",
       "      <td>13.838</td>\n",
       "      <td>1.0</td>\n",
       "      <td>23.51</td>\n",
       "      <td></td>\n",
       "      <td></td>\n",
       "      <td>N</td>\n",
       "      <td>NaN</td>\n",
       "      <td>1399</td>\n",
       "    </tr>\n",
       "  </tbody>\n",
       "</table>\n",
       "<p>5 rows × 21 columns</p>\n",
       "</div>"
      ],
      "text/plain": [
       "    record_name  atom_number blank_1 atom_name alt_loc residue_name blank_2  \\\n",
       "786        ATOM          787                CB                  LEU           \n",
       "787        ATOM          788                CG                  LEU           \n",
       "788        ATOM          789               CD1                  LEU           \n",
       "789        ATOM          790               CD2                  LEU           \n",
       "790        ATOM          791                 N                  VAL           \n",
       "\n",
       "    chain_id  residue_number insertion  ... x_coord  y_coord  z_coord  \\\n",
       "786        A             106            ...  13.857   39.118   10.784   \n",
       "787        A             106            ...  14.443   38.394    9.564   \n",
       "788        A             106            ...  13.727   37.094    9.184   \n",
       "789        A             106            ...  14.567   39.332    8.388   \n",
       "790        A             107            ...  14.523   39.257   13.838   \n",
       "\n",
       "     occupancy  b_factor  blank_4 segment_id element_symbol charge  line_idx  \n",
       "786        1.0     25.38                                  C    NaN      1395  \n",
       "787        1.0     27.94                                  C    NaN      1396  \n",
       "788        1.0     27.95                                  C    NaN      1397  \n",
       "789        1.0     26.61                                  C    NaN      1398  \n",
       "790        1.0     23.51                                  N    NaN      1399  \n",
       "\n",
       "[5 rows x 21 columns]"
      ]
     },
     "execution_count": 27,
     "metadata": {},
     "output_type": "execute_result"
    }
   ],
   "source": [
    "all_within_7A = p_1.df['ATOM'][distances < 7.0]\n",
    "all_within_7A.tail()"
   ]
  },
  {
   "cell_type": "markdown",
   "metadata": {},
   "source": [
    "## <font color = \"brown\">Converting Amino Acid codes from 3- to 1-letter codes </font>\n",
    "\n",
    "Residues in the residue_name field can be converted into 1-letter amino acid codes, which may be useful for further <br>sequence analysis, for example, pair-wise or multiple sequence alignments. Here we are going to work with <br>Crystal structure of SARS-CoV-2 receptor binding domain in complex with neutralizing antibody COVA2-04"
   ]
  },
  {
   "cell_type": "code",
   "execution_count": 28,
   "metadata": {},
   "outputs": [
    {
     "data": {
      "text/html": [
       "<div>\n",
       "<style scoped>\n",
       "    .dataframe tbody tr th:only-of-type {\n",
       "        vertical-align: middle;\n",
       "    }\n",
       "\n",
       "    .dataframe tbody tr th {\n",
       "        vertical-align: top;\n",
       "    }\n",
       "\n",
       "    .dataframe thead th {\n",
       "        text-align: right;\n",
       "    }\n",
       "</style>\n",
       "<table border=\"1\" class=\"dataframe\">\n",
       "  <thead>\n",
       "    <tr style=\"text-align: right;\">\n",
       "      <th></th>\n",
       "      <th>chain_id</th>\n",
       "      <th>residue_name</th>\n",
       "    </tr>\n",
       "  </thead>\n",
       "  <tbody>\n",
       "    <tr>\n",
       "      <td>0</td>\n",
       "      <td>A</td>\n",
       "      <td>N</td>\n",
       "    </tr>\n",
       "    <tr>\n",
       "      <td>8</td>\n",
       "      <td>A</td>\n",
       "      <td>L</td>\n",
       "    </tr>\n",
       "    <tr>\n",
       "      <td>16</td>\n",
       "      <td>A</td>\n",
       "      <td>C</td>\n",
       "    </tr>\n",
       "    <tr>\n",
       "      <td>22</td>\n",
       "      <td>A</td>\n",
       "      <td>P</td>\n",
       "    </tr>\n",
       "    <tr>\n",
       "      <td>29</td>\n",
       "      <td>A</td>\n",
       "      <td>F</td>\n",
       "    </tr>\n",
       "  </tbody>\n",
       "</table>\n",
       "</div>"
      ],
      "text/plain": [
       "   chain_id residue_name\n",
       "0         A            N\n",
       "8         A            L\n",
       "16        A            C\n",
       "22        A            P\n",
       "29        A            F"
      ]
     },
     "execution_count": 28,
     "metadata": {},
     "output_type": "execute_result"
    }
   ],
   "source": [
    "from biopandas.pdb import PandasPdb\n",
    "ppdb = PandasPdb().fetch_pdb('7jmo') \n",
    "sequence = ppdb.amino3to1()\n",
    "sequence.head()"
   ]
  },
  {
   "cell_type": "markdown",
   "metadata": {},
   "source": [
    "As shown above, the <font color = \"blue\">\"amino3to1\"</font> method returns a DataFrame containing the chain_id <br>and residue_name of the translated 1-letter amino acids. If you like to work with the sequence as a Python list <br>of string characters, you could do the following:"
   ]
  },
  {
   "cell_type": "code",
   "execution_count": 29,
   "metadata": {},
   "outputs": [
    {
     "data": {
      "text/plain": [
       "['A', 'T', 'V', 'C', 'G']"
      ]
     },
     "execution_count": 29,
     "metadata": {},
     "output_type": "execute_result"
    }
   ],
   "source": [
    "sequence_list = list(sequence.loc[sequence['chain_id'] == 'A', 'residue_name'])\n",
    "sequence_list[-5:] # last 5 residues of chain A"
   ]
  },
  {
   "cell_type": "code",
   "execution_count": 30,
   "metadata": {},
   "outputs": [
    {
     "data": {
      "text/plain": [
       "'NLCPFGEVFNATRFASVYAWNRKRISNCVADYSVLYNSASFSTFKCYGVSPTKLNDLCFTNVYADSFVIRGDEVRQIAPGQTGKIADYNYKLPDDFTGCVIAWNSNNLDSKVGGNYNYLYRLFRKSNLKPFERDISTEIYQAGSTPCNGVEGFNCYFPLQSYGFQPTNGVGYQPYRVVVLSFELLHAPATVCG'"
      ]
     },
     "execution_count": 30,
     "metadata": {},
     "output_type": "execute_result"
    }
   ],
   "source": [
    "#working with the sequence as a string, we can use the join method\n",
    "''.join(sequence.loc[sequence['chain_id'] == 'A', 'residue_name'])"
   ]
  },
  {
   "cell_type": "markdown",
   "metadata": {},
   "source": [
    "<br>\n",
    "To iterate over the sequences of multi-chain proteins, we can use the <font color=\"blue\">unique</font> method as shown below"
   ]
  },
  {
   "cell_type": "code",
   "execution_count": 38,
   "metadata": {},
   "outputs": [
    {
     "name": "stdout",
     "output_type": "stream",
     "text": [
      "\n",
      "Chain ID: A\n",
      "NLCPFGEVFNATRFASVYAWNRKRISNCVADYSVLYNSASFSTFKCYGVSPTKLNDLCFTNVYADSFVIRGDEVRQIAPGQTGKIADYNYKLPDDFTGCVIAWNSNNLDSKVGGNYNYLYRLFRKSNLKPFERDISTEIYQAGSTPCNGVEGFNCYFPLQSYGFQPTNGVGYQPYRVVVLSFELLHAPATVCG\n",
      "\n",
      "Chain ID: H\n",
      "QVQLVETGGGLIQPGGSLRLSCAASGFTVSSNYMSWVRQAPGKGLEWVSVIYSGGSTFYADSVKGRFTISRDNSKNTLYLQMNSLRAEDTAVYYCARDLERAGGMDVWGQGTMVTVSSASTKGPSVFPLAPSSGTAALGCLVKDYFPEPVTVSWNSGALTSGVHTFPAVLQSSGLYSLSSVVTVPSSSLGTQTYICNVNHKPSNTKVDKRVEPKSC\n",
      "\n",
      "Chain ID: L\n",
      "EIVMTQSPGTLSLSPGERATLSCRASQSVSSSYLAWYQQKPGQAPRLLIYGASSRATGIPDRFSGSGSGTDFTLTISRLEPEDFAVYYCQQYGSLYTFGQGTKVDIKRTVAAPSVFIFPPSDEQLKSGTASVVCLLNNFYPREAKVQWKVDNALQSGNSQESVTEQDSKDSTYSLSSTLTLSKADYEKHKVYACEVTHQGLSSPVTKSFNRGE\n"
     ]
    }
   ],
   "source": [
    "for chain_id in sequence['chain_id'].unique():\n",
    "    print('\\nChain ID: %s' % chain_id)\n",
    "    print(''.join(sequence.loc[sequence['chain_id'] == chain_id, 'residue_name']))\n",
    "    #print('\\n')"
   ]
  },
  {
   "cell_type": "markdown",
   "metadata": {},
   "source": [
    "<br>\n",
    "\n",
    "\n",
    "## <font color = \"brown\">Wrapping it up - Saving PDB structures</font>\n",
    "\n",
    "In PDB file format, the ATOM record is used to identify proteins or nucleic acid atoms, and the HETATM record is used to identify atoms in small molecules\n",
    "With the help of jupyter we could easily extract HETATM from these PDB files and save them as _clean.pdb files\n",
    "let's code about how to get the PDB structures out of the DataFrame format back into .pdb format.\n"
   ]
  },
  {
   "cell_type": "code",
   "execution_count": 40,
   "metadata": {},
   "outputs": [],
   "source": [
    "from biopandas.pdb import PandasPdb\n",
    "ppdb = PandasPdb().read_pdb('./data/7df4.pdb.gz')\n",
    "#Let's say we loaded a PDB structure, removed it from it's hydrogens:\n",
    "ppdb.df['ATOM'] = ppdb.df['ATOM'][ppdb.df['ATOM']['element_symbol'] != 'H']"
   ]
  },
  {
   "cell_type": "code",
   "execution_count": 41,
   "metadata": {},
   "outputs": [],
   "source": [
    "ppdb.to_pdb(path='./data/7df4_stripped.pdb', \n",
    "            records=None, \n",
    "            gz=False, \n",
    "            append_newline=True)"
   ]
  },
  {
   "cell_type": "markdown",
   "metadata": {},
   "source": [
    "By default, all records (that is, 'ATOM', 'HETATM', 'OTHERS', 'ANISOU') are written if we set records=None. Alternatively, let's say we want to get rid of the 'HETATM' entries and produce a compressed gzip archive of our PDB structure:"
   ]
  },
  {
   "cell_type": "code",
   "execution_count": 42,
   "metadata": {},
   "outputs": [],
   "source": [
    "ppdb.to_pdb(path='./data/7df4_clean.pdb.gz', \n",
    "            records=['ATOM', 'OTHERS', 'ANISOU'], \n",
    "            gz=True, \n",
    "            append_newline=True)"
   ]
  },
  {
   "cell_type": "markdown",
   "metadata": {},
   "source": [
    "<br>\n",
    "\n",
    "\n",
    "### <font color=\"brown\"><center> ********************************* End of Chapter 1  ********************************* </center> </font>"
   ]
  }
 ],
 "metadata": {
  "kernelspec": {
   "display_name": "Python 3",
   "language": "python",
   "name": "python3"
  },
  "language_info": {
   "codemirror_mode": {
    "name": "ipython",
    "version": 3
   },
   "file_extension": ".py",
   "mimetype": "text/x-python",
   "name": "python",
   "nbconvert_exporter": "python",
   "pygments_lexer": "ipython3",
   "version": "3.7.4"
  }
 },
 "nbformat": 4,
 "nbformat_minor": 4
}
